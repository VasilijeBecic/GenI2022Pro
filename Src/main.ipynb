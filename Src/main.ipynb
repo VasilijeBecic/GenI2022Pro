{
 "cells": [
  {
   "cell_type": "markdown",
   "metadata": {},
   "source": [
    "## 1. Burros Wheeler with FM Index ##"
   ]
  },
  {
   "cell_type": "code",
   "execution_count": 30,
   "metadata": {},
   "outputs": [],
   "source": [
    "\"\"\"Traditional implementation directly from the classes\"\"\"\n",
    "class BurrowsWheelerFMIndex:\n",
    "    \n",
    "    def rotations(self, t):\n",
    "        \"\"\" Return list of rotations of input string t \"\"\"\n",
    "        tt = t * 2\n",
    "        return [tt[i:i+len(t)] for i in range(0, len(t)) ]\n",
    "\n",
    "\n",
    "    def bwm(self, t):\n",
    "        \"\"\" Return lexicographically sorted list of t’s rotations \"\"\"\n",
    "        return sorted(self.rotations(t))\n",
    "\n",
    "\n",
    "    def bwtViaBwm(self, t):\n",
    "        \"\"\" Given T, returns BWT(T) by creating BWM \"\"\"\n",
    "        return ''.join(map(lambda x: x[-1], self.bwm(t)))\n",
    "    \n",
    "    \n",
    "    def suffixArray(self, s):\n",
    "        \"\"\" Given T return suffix array SA(T).  We use Python's sorted function here for simplicity, but we can do better.\"\"\"\n",
    "        satups = sorted([(s[i:], i) for i in range(len(s))])\n",
    "        # Extract and return just the offsets\n",
    "        # print(satups)\n",
    "        return map(lambda x: x[1], satups)\n",
    "\n",
    "\n",
    "    def bwtViaSa(self, t):\n",
    "        \"\"\" Given T, returns BWT(T) by way of the suffix array. \"\"\"\n",
    "        bw = []\n",
    "        sa = self.suffixArray(t)\n",
    "        for si in sa:\n",
    "            if si == 0: bw.append('$')\n",
    "            else: bw.append(t[si-1])\n",
    "        return ''.join(bw) # return string-ized version of list bw"
   ]
  },
  {
   "cell_type": "code",
   "execution_count": 31,
   "metadata": {},
   "outputs": [],
   "source": [
    "bwFM = BurrowsWheelerFMIndex()"
   ]
  },
  {
   "cell_type": "code",
   "execution_count": 32,
   "metadata": {},
   "outputs": [],
   "source": [
    "# Example\n",
    "t = 'banana$'"
   ]
  },
  {
   "cell_type": "code",
   "execution_count": 35,
   "metadata": {},
   "outputs": [
    {
     "name": "stdout",
     "output_type": "stream",
     "text": [
      "['banana$', 'anana$b', 'nana$ba', 'ana$ban', 'na$bana', 'a$banan', '$banana']\n",
      "['$banana', 'a$banan', 'ana$ban', 'anana$b', 'banana$', 'na$bana', 'nana$ba']\n",
      "annb$aa\n"
     ]
    }
   ],
   "source": [
    "result = bwFM.rotations('banana$')\n",
    "print(result)\n",
    "\n",
    "result = bwFM.bwm(t)\n",
    "print(result)\n",
    "\n",
    "result = bwFM.bwtViaBwm(t)\n",
    "print(result)"
   ]
  },
  {
   "cell_type": "code",
   "execution_count": null,
   "metadata": {},
   "outputs": [],
   "source": []
  },
  {
   "cell_type": "code",
   "execution_count": null,
   "metadata": {},
   "outputs": [],
   "source": []
  },
  {
   "cell_type": "markdown",
   "metadata": {},
   "source": [
    "## 2. Global alignment "
   ]
  },
  {
   "cell_type": "code",
   "execution_count": null,
   "metadata": {},
   "outputs": [],
   "source": []
  },
  {
   "cell_type": "code",
   "execution_count": null,
   "metadata": {},
   "outputs": [],
   "source": []
  },
  {
   "cell_type": "code",
   "execution_count": null,
   "metadata": {},
   "outputs": [],
   "source": []
  },
  {
   "cell_type": "code",
   "execution_count": null,
   "metadata": {},
   "outputs": [],
   "source": []
  },
  {
   "cell_type": "code",
   "execution_count": null,
   "metadata": {},
   "outputs": [],
   "source": []
  },
  {
   "cell_type": "markdown",
   "metadata": {},
   "source": [
    "## 3/4. Main program"
   ]
  },
  {
   "cell_type": "code",
   "execution_count": null,
   "metadata": {},
   "outputs": [],
   "source": []
  },
  {
   "cell_type": "code",
   "execution_count": null,
   "metadata": {},
   "outputs": [],
   "source": []
  },
  {
   "cell_type": "code",
   "execution_count": null,
   "metadata": {},
   "outputs": [],
   "source": []
  },
  {
   "cell_type": "code",
   "execution_count": null,
   "metadata": {},
   "outputs": [],
   "source": []
  },
  {
   "cell_type": "code",
   "execution_count": null,
   "metadata": {},
   "outputs": [],
   "source": []
  }
 ],
 "metadata": {
  "kernelspec": {
   "display_name": "Python 3",
   "language": "python",
   "name": "python3"
  },
  "language_info": {
   "codemirror_mode": {
    "name": "ipython",
    "version": 3
   },
   "file_extension": ".py",
   "mimetype": "text/x-python",
   "name": "python",
   "nbconvert_exporter": "python",
   "pygments_lexer": "ipython3",
   "version": "3.8.3"
  }
 },
 "nbformat": 4,
 "nbformat_minor": 4
}
